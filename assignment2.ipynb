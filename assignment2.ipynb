{
 "cells": [
  {
   "cell_type": "code",
   "execution_count": 214,
   "metadata": {},
   "outputs": [],
   "source": [
    "import requests\n",
    "import networkx\n",
    "#I've removed by github token for the sake of account privacy\n",
    "headers = {\n",
    "    \"Authorization\": \"Token Token goes here\"\n",
    "}\n",
    "url = f\"https://api.github.com/users/torvalds/repos\"\n",
    "response = requests.get(url, headers=headers)\n",
    "repos = response.json()\n"
   ]
  },
  {
   "cell_type": "code",
   "execution_count": 215,
   "metadata": {},
   "outputs": [],
   "source": [
    "g=nx.Graph()"
   ]
  },
  {
   "cell_type": "code",
   "execution_count": 227,
   "metadata": {},
   "outputs": [],
   "source": [
    "for repo in repos:\n",
    "    url = f\"https://api.github.com/repos/torvalds/{repo['name']}/contributors\"\n",
    "    response = requests.get(url,headers=headers)\n",
    "    contributors = response.json()\n",
    "    for contributor in contributors:\n",
    "        if \"login\" in contributor:\n",
    "            g.add_node(contributor[\"login\"], type=\"contributor\")\n",
    "            g.add_edge(contributor[\"login\"], repo[\"name\"], type='repository')\n",
    "            \n",
    "            \n",
    " \n"
   ]
  },
  {
   "cell_type": "code",
   "execution_count": 228,
   "metadata": {},
   "outputs": [
    {
     "name": "stdout",
     "output_type": "stream",
     "text": [
      "libgit2 0.3125\n",
      "subsurface-for-dirk 0.3125\n",
      "libdc-for-dirk 0.3020833333333333\n",
      "uemacs 0.08333333333333333\n",
      "torvalds 0.05208333333333333\n",
      "pesconvert 0.041666666666666664\n",
      "dirkhh 0.020833333333333332\n",
      "glance- 0.020833333333333332\n",
      "claudiuolteanu 0.020833333333333332\n",
      "janmulder 0.020833333333333332\n"
     ]
    }
   ],
   "source": [
    "degree_centrality = nx.degree_centrality(g)\n",
    "\n",
    "sorted_nodes = sorted(degree_centrality, key=degree_centrality.get, reverse=True)\n",
    "\n",
    "for node in sorted_nodes[:10]:\n",
    "    print(f\"{node} {degree_centrality[node]}\")\n",
    "\n",
    "\n",
    "  \n",
    "  "
   ]
  },
  {
   "cell_type": "code",
   "execution_count": 204,
   "metadata": {},
   "outputs": [],
   "source": [
    "nx.write_graphml(g, \"contributors.graphml\")"
   ]
  },
  {
   "cell_type": "code",
   "execution_count": 205,
   "metadata": {},
   "outputs": [
    {
     "name": "stdout",
     "output_type": "stream",
     "text": [
      "File Size in Bytes is 3203\n"
     ]
    }
   ],
   "source": [
    "import os\n",
    "file_stats = os.stat(\"assignment2.ipynb\")\n",
    "print(f'File Size in Bytes is {file_stats.st_size}')"
   ]
  }
 ],
 "metadata": {
  "kernelspec": {
   "display_name": "Python 3",
   "language": "python",
   "name": "python3"
  },
  "language_info": {
   "codemirror_mode": {
    "name": "ipython",
    "version": 3
   },
   "file_extension": ".py",
   "mimetype": "text/x-python",
   "name": "python",
   "nbconvert_exporter": "python",
   "pygments_lexer": "ipython3",
   "version": "3.10.2"
  },
  "orig_nbformat": 4
 },
 "nbformat": 4,
 "nbformat_minor": 2
}
